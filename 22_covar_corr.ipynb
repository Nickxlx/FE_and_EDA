{
 "cells": [
  {
   "cell_type": "markdown",
   "id": "e74f7f6f-daa3-473a-b077-99c55f6362be",
   "metadata": {},
   "source": [
    "Q1. Pearson correlation coefficient is a measure of the linear relationship between two variables. Suppose you have collected data on the amount of time students spend studying for an exam and their final exam scores. Calculate the Pearson correlation coefficient between these two variables and interpret the result."
   ]
  },
  {
   "cell_type": "code",
   "execution_count": 1,
   "id": "4e606e20-bacd-4790-a7c3-5da8ff740c20",
   "metadata": {},
   "outputs": [
    {
     "data": {
      "text/html": [
       "<div>\n",
       "<style scoped>\n",
       "    .dataframe tbody tr th:only-of-type {\n",
       "        vertical-align: middle;\n",
       "    }\n",
       "\n",
       "    .dataframe tbody tr th {\n",
       "        vertical-align: top;\n",
       "    }\n",
       "\n",
       "    .dataframe thead th {\n",
       "        text-align: right;\n",
       "    }\n",
       "</style>\n",
       "<table border=\"1\" class=\"dataframe\">\n",
       "  <thead>\n",
       "    <tr style=\"text-align: right;\">\n",
       "      <th></th>\n",
       "      <th>hrs_of_study</th>\n",
       "      <th>score</th>\n",
       "    </tr>\n",
       "  </thead>\n",
       "  <tbody>\n",
       "    <tr>\n",
       "      <th>hrs_of_study</th>\n",
       "      <td>1.000000</td>\n",
       "      <td>0.994107</td>\n",
       "    </tr>\n",
       "    <tr>\n",
       "      <th>score</th>\n",
       "      <td>0.994107</td>\n",
       "      <td>1.000000</td>\n",
       "    </tr>\n",
       "  </tbody>\n",
       "</table>\n",
       "</div>"
      ],
      "text/plain": [
       "              hrs_of_study     score\n",
       "hrs_of_study      1.000000  0.994107\n",
       "score             0.994107  1.000000"
      ]
     },
     "execution_count": 1,
     "metadata": {},
     "output_type": "execute_result"
    }
   ],
   "source": [
    "import pandas as pd \n",
    "\n",
    "df =  pd.DataFrame({\n",
    "        \"hrs_of_study\": [10,8,11,6,9],\n",
    "        \"score\": [170,155,180,140,160]\n",
    "})\n",
    "\n",
    "correlation = df.corr()\n",
    "\n",
    "correlation"
   ]
  },
  {
   "cell_type": "markdown",
   "id": "3cd82c18-8947-42cb-94cc-9f44bd35fcff",
   "metadata": {},
   "source": [
    "Interpreting the result:\n",
    "\n",
    "The correlation matrix shows the correlation coefficients between the variables \"hrs_of_study\" and \"score\". Both variables have a correlation coefficient of approximately 0.986,This implies that there is a strong positive association between the two variables. In other words, students who spend more hours studying tend to achieve higher scores on their exams."
   ]
  },
  {
   "cell_type": "code",
   "execution_count": null,
   "id": "0f8cb206-2ac2-4fc7-a803-953b0515f026",
   "metadata": {},
   "outputs": [],
   "source": []
  },
  {
   "cell_type": "code",
   "execution_count": null,
   "id": "15908b39-2837-4420-9cd9-2fe532ab9a57",
   "metadata": {},
   "outputs": [],
   "source": []
  },
  {
   "cell_type": "markdown",
   "id": "301c3a0f-c05a-48d6-8b10-c40e763e9770",
   "metadata": {},
   "source": [
    "Q2. Spearman's rank correlation is a measure of the monotonic relationship between two variables. Suppose you have collected data on the amount of sleep individuals get each night and their overall job satisfaction level on a scale of 1 to 10. Calculate the Spearman's rank correlation between these two variables and interpret the result."
   ]
  },
  {
   "cell_type": "code",
   "execution_count": 2,
   "id": "f903a8bd-7afe-400e-9e76-12bc81c1bf0c",
   "metadata": {},
   "outputs": [
    {
     "data": {
      "text/plain": [
       "-0.8636363636363634"
      ]
     },
     "execution_count": 2,
     "metadata": {},
     "output_type": "execute_result"
    }
   ],
   "source": [
    "# creating the data \n",
    "data = {\n",
    "    \"amount_of_sleep\": [8,7,6,5,6,7],\n",
    "    \"job_satisfaction\": [7,5,8,9,8,7]\n",
    "}\n",
    "\n",
    "# creating df from data\n",
    "df = pd.DataFrame(data)\n",
    "\n",
    "# calcuating spearman corelation rank\n",
    "spearman_corr = df[\"job_satisfaction\"].corr(df[\"amount_of_sleep\"],method=\"spearman\")\n",
    "\n",
    "# printing the output\n",
    "spearman_corr"
   ]
  },
  {
   "cell_type": "markdown",
   "id": "d19dce07-4ffa-445a-808f-371207d5c420",
   "metadata": {},
   "source": [
    "Interpreting the result:\n",
    "\n",
    "\n",
    "The coefficient between \"amount_of_sleep\" and \"job_satisfaction\" is approximately -0.8636. \n",
    "\n",
    "A negative correlation coefficient indicates that as the amount of sleep decreases, the job satisfaction level tends to decrease as well, and vice versa. However, it's important to note that the correlation coefficient of -0.863636 suggests a strong relationship, meaning that the relationship is particularly strongly negetive ."
   ]
  },
  {
   "cell_type": "code",
   "execution_count": null,
   "id": "1a777b29-76b4-4355-bd93-aebaf4cdf183",
   "metadata": {},
   "outputs": [],
   "source": []
  },
  {
   "cell_type": "code",
   "execution_count": null,
   "id": "6913d485-40e4-43e8-b137-377e1eade945",
   "metadata": {},
   "outputs": [],
   "source": []
  },
  {
   "cell_type": "markdown",
   "id": "79dc11b7-cf2f-413d-ab53-0f6a626b6724",
   "metadata": {},
   "source": [
    "Q3. Suppose you are conducting a study to examine the relationship between the number of hours of exercise per week and body mass index (BMI) in a sample of adults. You collected data on both variables for 50 participants. Calculate the Pearson correlation coefficient and the Spearman's rank correlation between these two variables and compare the results."
   ]
  },
  {
   "cell_type": "code",
   "execution_count": 3,
   "id": "8e11202f-ad37-4b27-98f9-2a2ee3796f19",
   "metadata": {},
   "outputs": [
    {
     "name": "stdout",
     "output_type": "stream",
     "text": [
      "Pearson correlation coefficient: 0.48979201270803113\n",
      "Spearman's rank correlation coefficient: 0.49488487431783923\n"
     ]
    }
   ],
   "source": [
    "# creating data \n",
    "data = {\n",
    "    \"exercise_hours\": [3, 5, 4, 2, 6, 1, 4, 3, 2, 5, 6, 3, 2, 4, 1, 5, 2, 3, 4, 6, 2, 1, 3, 4, 2,\n",
    "                  3, 5, 4, 2, 6, 1, 4, 3, 2, 5, 6, 3, 2, 4, 1, 5, 2, 3, 4, 6, 2, 1, 3, 4, 2],\n",
    "    \n",
    "    \"bmi\": [22.5, 24.3, 26.1, 21.9, 28.6, 20.4, 25.8, 23.7, 22.1, 24.9, 26.8, 23.1, 21.6, 25.1, 20.1,\n",
    "           24.7, 21.5, 23.4, 25.6, 27.3, 21.3, 19.8, 23.0, 24.5, 21.8, 23.2, 24.8, 26.2, 22.9, 23.6,\n",
    "           27.1, 20.6, 24.2, 22.8, 25.7, 26.5, 23.3, 21.7, 25.3, 20.9, 23.9, 26.0, 27.4, 22.3, 20.2,\n",
    "           23.8, 25.0, 20.5, 22.7, 24.6]\n",
    "}\n",
    "\n",
    "# creating df from data\n",
    "df = pd.DataFrame(data)\n",
    "\n",
    "# Calculate the Pearson correlation coefficient\n",
    "pearson_corr = df['exercise_hours'].corr(df['bmi'])\n",
    "\n",
    "# Calculate the Spearman's rank correlation coefficient\n",
    "spearman_corr = df['exercise_hours'].corr(df['bmi'], method='spearman')\n",
    "\n",
    "# Print the correlation coefficients\n",
    "print(\"Pearson correlation coefficient:\", pearson_corr)\n",
    "print(\"Spearman's rank correlation coefficient:\", spearman_corr)"
   ]
  },
  {
   "cell_type": "code",
   "execution_count": null,
   "id": "ebe7edbf-97c2-4295-97f7-12bb62bffc2e",
   "metadata": {},
   "outputs": [],
   "source": []
  },
  {
   "cell_type": "code",
   "execution_count": null,
   "id": "8b67abfa-f127-43f9-a3a3-1b94d82ce394",
   "metadata": {},
   "outputs": [],
   "source": []
  },
  {
   "cell_type": "markdown",
   "id": "291eb4a0-c76f-4685-926d-7966f4372999",
   "metadata": {},
   "source": [
    "Q4. A researcher is interested in examining the relationship between the number of hours individuals spend watching television per day and their level of physical activity. The researcher collected data on both variables from a sample of 50 participants. Calculate the Pearson correlation coefficient between these two variables."
   ]
  },
  {
   "cell_type": "code",
   "execution_count": 4,
   "id": "cd75c9e0-0a83-47a8-a589-b260aad2531e",
   "metadata": {},
   "outputs": [
    {
     "name": "stdout",
     "output_type": "stream",
     "text": [
      "Pearson correlation coefficient: 0.17665116104425108\n"
     ]
    }
   ],
   "source": [
    "import numpy as np\n",
    "\n",
    "#creating random saple data using numpy \n",
    "data = {\n",
    "    \"tv_hours\": np.random.randint(0, 5, size=50),\n",
    "    \"physical_activity\": np.random.randint(0, 5, size=50)\n",
    "\n",
    "}\n",
    "\n",
    "# Create the dataset\n",
    "df = pd.DataFrame(data)\n",
    "\n",
    "# Calculate the Spearman's rank correlation coefficient\n",
    "pearson_corr = df[\"tv_hours\"].corr(df[\"physical_activity\"])\n",
    "\n",
    "# Print the correlation coefficients\n",
    "print(\"Pearson correlation coefficient:\", pearson_corr)"
   ]
  },
  {
   "cell_type": "code",
   "execution_count": null,
   "id": "2608161d-731d-4411-b837-5eecaa4238a7",
   "metadata": {},
   "outputs": [],
   "source": []
  },
  {
   "cell_type": "code",
   "execution_count": null,
   "id": "1e43dade-ee8e-468e-853b-c31c0ab35878",
   "metadata": {},
   "outputs": [],
   "source": []
  },
  {
   "cell_type": "markdown",
   "id": "9c2c0487-06c3-4c63-841f-e4dca8929bbb",
   "metadata": {},
   "source": [
    "Q5. A survey was conducted to examine the relationship between age and preference for a particular brand of soft drink. The survey results are shown below:\n",
    "\n",
    "    Age(Years)        Soft drink Preference\n",
    "    25                Coke\n",
    "    42                Pepsi\n",
    "    37                Mountain dew\n",
    "    19                Coke\n",
    "    31                Pepsi\n",
    "    28                Coke"
   ]
  },
  {
   "cell_type": "code",
   "execution_count": 5,
   "id": "9f886611-19a8-4b67-b483-9fba83e20397",
   "metadata": {},
   "outputs": [
    {
     "name": "stdout",
     "output_type": "stream",
     "text": [
      "Pearson correlation coefficient: 0.7587035441865058\n"
     ]
    }
   ],
   "source": [
    "import pandas as pd\n",
    "\n",
    "# Create a DataFrame with the survey results\n",
    "data = {\n",
    "    \"Age(Years)\": [25, 42, 37, 19, 31, 28],\n",
    "    \"Soft_drink_Preference\": [\"Coke\", \"Pepsi\", \"Mountain Dew\", \"Coke\", \"Pepsi\", \"Coke\"]\n",
    "}\n",
    "\n",
    "df = pd.DataFrame(data)\n",
    "\n",
    "# Perform label encoding on the \"Soft drink Preference\" column\n",
    "label_mapping = {\"Coke\": 0, \"Pepsi\": 1, \"Mountain Dew\": 2}\n",
    "\n",
    "df[\"Soft_drink_Preference\"] = df[\"Soft_drink_Preference\"].map(label_mapping)\n",
    "\n",
    "# Calculate the Pearson correlation coefficient\n",
    "pearson_corr = df[\"Age(Years)\"].corr(df[\"Soft_drink_Preference\"])\n",
    "\n",
    "# Print the correlation coefficient\n",
    "print(\"Pearson correlation coefficient:\", pearson_corr)\n"
   ]
  },
  {
   "cell_type": "code",
   "execution_count": null,
   "id": "fc0533e1-555e-4d3a-837e-b135e4d037bf",
   "metadata": {},
   "outputs": [],
   "source": []
  },
  {
   "cell_type": "code",
   "execution_count": null,
   "id": "48150fa1-2bd5-4773-9d53-22224afaa727",
   "metadata": {},
   "outputs": [],
   "source": []
  },
  {
   "cell_type": "markdown",
   "id": "9ffdf335-b25e-460e-b455-a8117cd7f614",
   "metadata": {},
   "source": [
    "Q6. A company is interested in examining the relationship between the number of sales calls made per day and the number of sales made per week. The company collected data on both variables from a sample of 30 sales representatives. Calculate the Pearson correlation coefficient between these two variables."
   ]
  },
  {
   "cell_type": "code",
   "execution_count": 6,
   "id": "7a3202ab-810c-4e3b-8ed9-d539ed8acd5e",
   "metadata": {},
   "outputs": [
    {
     "name": "stdout",
     "output_type": "stream",
     "text": [
      "Pearson correlation coefficient: 0.41281208793920454\n"
     ]
    }
   ],
   "source": [
    "data = {\n",
    "\"sales_calls_per_day\": [10, 15, 12, 8, 14, 20, 18, 10, 16, 9, 11, 13,15, 17, 10, \n",
    "                       16, 19, 20, 22, 14, 12, 11, 15, 17,12, 14, 20, 18, 13, 15],\n",
    "\n",
    "\"sales_per_week\" : [2, 3, 2, 1, 3, 4, 3, 2, 3, 1, 2, 2, 3, 3, 4, \n",
    "                   2, 2, 3, 3, 4, 4, 3, 2, 2, 3, 3, 4, 3, 2, 3]\n",
    "}\n",
    "\n",
    "df = pd.DataFrame(data)\n",
    "\n",
    "pearson_corr = df[\"sales_calls_per_day\"].corr(df[\"sales_per_week\"])\n",
    "\n",
    "print(\"Pearson correlation coefficient:\", pearson_corr)"
   ]
  },
  {
   "cell_type": "code",
   "execution_count": null,
   "id": "d84270ca-8a65-4882-89e5-294d7be88df9",
   "metadata": {},
   "outputs": [],
   "source": []
  }
 ],
 "metadata": {
  "kernelspec": {
   "display_name": "Python 3 (ipykernel)",
   "language": "python",
   "name": "python3"
  },
  "language_info": {
   "codemirror_mode": {
    "name": "ipython",
    "version": 3
   },
   "file_extension": ".py",
   "mimetype": "text/x-python",
   "name": "python",
   "nbconvert_exporter": "python",
   "pygments_lexer": "ipython3",
   "version": "3.10.8"
  }
 },
 "nbformat": 4,
 "nbformat_minor": 5
}
