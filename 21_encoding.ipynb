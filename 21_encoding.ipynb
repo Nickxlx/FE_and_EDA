{
 "cells": [
  {
   "cell_type": "markdown",
   "id": "d78373a5-89d6-49dd-8e22-c74706f93c92",
   "metadata": {},
   "source": [
    "Q1. What is the difference between Ordinal Encoding and Label Encoding? Provide an example of when you might choose one over the other.\n",
    "\n",
    "Answer--> Ordinal Encoding and Label Encoding are both techniques used for encoding categorical variables into numerical representations. However, there are some differences between them:\n",
    "\n",
    "1. Ordinal Encoding:\n",
    "   - Ordinal Encoding assigns unique integers to each unique category in a categorical variable.The assigned integers have an inherent order or ranking associated with them.\n",
    "   - This encoding is suitable when the categorical variable has a meaningful order or hierarchy.\n",
    "   - Example: Consider a variable \"Education Level\" with categories \"High School,\" \"Bachelor's Degree,\" \"Master's Degree,\" and \"Ph.D.\" In ordinal encoding, we could assign integers as follows: \"High School\" = 1, \"Bachelor's Degree\" = 2, \"Master's Degree\" = 3, and \"Ph.D.\" = 4.\n",
    "\n",
    "2. Label Encoding:\n",
    "   - Label Encoding assigns unique integers to each unique category in a categorical variable, without any specific order or ranking.\n",
    "   - The assigned integers are arbitrary and do not imply any meaning or hierarchy.\n",
    "   - This encoding is suitable when the categorical variable does not have an inherent order or when the variable is nominal.\n",
    "   - Example: Consider a variable \"Color\" with categories \"Red,\" \"Green,\" and \"Blue.\" In label encoding, we could assign integers as follows: \"Red\" = 1, \"Green\" = 2, and \"Blue\" = 3.\n",
    "\n",
    "Choosing one encoding over the other depends on the nature of the categorical variable and the specific requirements of the problem. For example:\n",
    "\n",
    "- If you are working with an ordinal variable like \"Education Level,\" where the order of categories matters (e.g., higher education levels indicate more advanced degrees), you would choose ordinal encoding to preserve the order information.\n",
    "\n",
    "- If you are working with a nominal variable like \"Color,\" where there is no inherent order or ranking, and you simply need a numeric representation, you would choose label encoding."
   ]
  },
  {
   "cell_type": "code",
   "execution_count": null,
   "id": "0cdf1c22-0e7d-4898-b69f-21b84905a034",
   "metadata": {},
   "outputs": [],
   "source": []
  },
  {
   "cell_type": "code",
   "execution_count": null,
   "id": "0bed3efa-5d7c-4da9-a2b9-d7dde457d19e",
   "metadata": {},
   "outputs": [],
   "source": []
  },
  {
   "cell_type": "markdown",
   "id": "4ce7f976-db87-415b-93ae-30960b7780f7",
   "metadata": {},
   "source": [
    "Q2. Explain how Target Guided Ordinal Encoding works and provide an example of when you might use it in a machine learning project.\n",
    "\n",
    "Answer--> Target Guided Ordinal Encoding is a technique used to encode categorical variables based on their relationship with the target variable in a machine learning project. It assigns a numerical value to each category of the variable, considering the probability or mean of the target variable for each category.\n",
    "\n",
    "Let's consider an example to understand its application:"
   ]
  },
  {
   "cell_type": "code",
   "execution_count": 1,
   "id": "c5b27176-f43c-4a27-9ef3-d5ad3c6ab04f",
   "metadata": {},
   "outputs": [],
   "source": [
    "import pandas as pd\n",
    "df = pd.DataFrame({\n",
    "            \"country\": [\"A\", 'B', 'A', 'D',\"E\"],\n",
    "            \"population\": [100,120,520,455,100]\n",
    "})\n",
    "\n",
    "# calculating the mean\n",
    "population_mean = df.groupby(\"country\")[\"population\"].mean()\n",
    "\n",
    "# creating a new feature in df with mean population\n",
    "df[\"country_encoded\"] = df[\"country\"].map(population_mean)"
   ]
  },
  {
   "cell_type": "code",
   "execution_count": 2,
   "id": "d71f13a4-186c-40a5-aaf0-baa7bb01dfeb",
   "metadata": {},
   "outputs": [
    {
     "data": {
      "text/html": [
       "<div>\n",
       "<style scoped>\n",
       "    .dataframe tbody tr th:only-of-type {\n",
       "        vertical-align: middle;\n",
       "    }\n",
       "\n",
       "    .dataframe tbody tr th {\n",
       "        vertical-align: top;\n",
       "    }\n",
       "\n",
       "    .dataframe thead th {\n",
       "        text-align: right;\n",
       "    }\n",
       "</style>\n",
       "<table border=\"1\" class=\"dataframe\">\n",
       "  <thead>\n",
       "    <tr style=\"text-align: right;\">\n",
       "      <th></th>\n",
       "      <th>country</th>\n",
       "      <th>population</th>\n",
       "      <th>country_encoded</th>\n",
       "    </tr>\n",
       "  </thead>\n",
       "  <tbody>\n",
       "    <tr>\n",
       "      <th>0</th>\n",
       "      <td>A</td>\n",
       "      <td>100</td>\n",
       "      <td>310.0</td>\n",
       "    </tr>\n",
       "    <tr>\n",
       "      <th>1</th>\n",
       "      <td>B</td>\n",
       "      <td>120</td>\n",
       "      <td>120.0</td>\n",
       "    </tr>\n",
       "    <tr>\n",
       "      <th>2</th>\n",
       "      <td>A</td>\n",
       "      <td>520</td>\n",
       "      <td>310.0</td>\n",
       "    </tr>\n",
       "    <tr>\n",
       "      <th>3</th>\n",
       "      <td>D</td>\n",
       "      <td>455</td>\n",
       "      <td>455.0</td>\n",
       "    </tr>\n",
       "    <tr>\n",
       "      <th>4</th>\n",
       "      <td>E</td>\n",
       "      <td>100</td>\n",
       "      <td>100.0</td>\n",
       "    </tr>\n",
       "  </tbody>\n",
       "</table>\n",
       "</div>"
      ],
      "text/plain": [
       "  country  population  country_encoded\n",
       "0       A         100            310.0\n",
       "1       B         120            120.0\n",
       "2       A         520            310.0\n",
       "3       D         455            455.0\n",
       "4       E         100            100.0"
      ]
     },
     "execution_count": 2,
     "metadata": {},
     "output_type": "execute_result"
    }
   ],
   "source": [
    "df"
   ]
  },
  {
   "cell_type": "code",
   "execution_count": null,
   "id": "05a925a6-45c3-40d5-9c5f-99bf43a89cc8",
   "metadata": {},
   "outputs": [],
   "source": []
  },
  {
   "cell_type": "code",
   "execution_count": null,
   "id": "2d5d4250-c25b-4de2-8a39-b90b1eb364cd",
   "metadata": {},
   "outputs": [],
   "source": []
  },
  {
   "cell_type": "markdown",
   "id": "be095ae6-dd7b-43d8-b84f-fe63becd5893",
   "metadata": {},
   "source": [
    "Q3. Define covariance and explain why it is important in statistical analysis. How is covariance calculated?\n",
    "\n",
    "Answer--> Covariance measures the direction and magnitude of the linear relationship between two variables.\n",
    "\n",
    "The importance of covariance in statistical analysis lies in its ability to provide insights into the dependency or association between variables. Here are a few reasons why covariance is significant:\n",
    "\n",
    "    Relationship Assessment: Covariance helps determine whether two variables move together (positive covariance) or in opposite directions (negative covariance). \n",
    "\n",
    "    Pattern Identification: Covariance can reveal patterns or trends in data. A high positive covariance suggests that as one variable increases, the other tends to increase as well. A high negative covariance indicates that as one variable increases, the other tends to decrease. These patterns can provide valuable information in understanding the behavior of variables.\n",
    "\n",
    "Covariance is calculated using the following formula:\n",
    "\n",
    "cov(X, Y) = Σ((Xᵢ - μₓ) * (Yᵢ - μᵧ)) / (n - 1)\n",
    "\n",
    "where:\n",
    "\n",
    "- X and Y are the variables of interest.\n",
    "- Xᵢ and Yᵢ are individual values of X and Y.\n",
    "- μₓ and μᵧ represent the means of X and Y, respectively.\n",
    "- Σ denotes summation.\n",
    "- n represents the number of data points."
   ]
  },
  {
   "cell_type": "code",
   "execution_count": null,
   "id": "abf1c69f-b054-4751-b01c-b8eaf756579b",
   "metadata": {},
   "outputs": [],
   "source": []
  },
  {
   "cell_type": "code",
   "execution_count": null,
   "id": "9aca6610-f570-47c3-8696-44eb4c1f4a2c",
   "metadata": {},
   "outputs": [],
   "source": []
  },
  {
   "cell_type": "markdown",
   "id": "46910622-f0a5-48af-958d-a213344c020e",
   "metadata": {},
   "source": [
    "Q4. For a dataset with the following categorical variables: Color (red, green, blue), Size (small, medium, large), and Material (wood, metal, plastic), perform label encoding using Python's scikit-learn library.Show your code and explain the output."
   ]
  },
  {
   "cell_type": "code",
   "execution_count": 3,
   "id": "f9058d0d-1889-46e6-898e-4e1f16dd0c80",
   "metadata": {},
   "outputs": [
    {
     "name": "stdout",
     "output_type": "stream",
     "text": [
      "   color  size  material\n",
      "0      2     2         2\n",
      "1      1     1         0\n",
      "2      0     0         1\n"
     ]
    }
   ],
   "source": [
    "import pandas as pd\n",
    "\n",
    "df = pd.DataFrame({ \n",
    "    \"color\": [\"red\", \"green\", \"blue\"],\n",
    "    \"size\": [\"small\", \"medium\",\"large\"],\n",
    "    \"material\": [\"wood\", \"metal\", \"plastic\"]\n",
    "})\n",
    "\n",
    "from sklearn.preprocessing import LabelEncoder\n",
    "\n",
    "# creating initialize\n",
    "encoder = LabelEncoder()\n",
    "\n",
    "# Apply label encoding to each column\n",
    "for column in df.columns:\n",
    "    df[column] = encoder.fit_transform(df[column])\n",
    "    \n",
    "print(df)"
   ]
  },
  {
   "cell_type": "markdown",
   "id": "0326b372-ece9-47c1-8d45-8618bb122e02",
   "metadata": {},
   "source": [
    "The output shows the transformed DataFrame where each categorical variable has been replaced with its corresponding encoded values. For example, in the 'Color' column, 'red' is encoded as 2, 'green' as 1, and 'blue' as 0. Similarly, 'small', 'medium', and 'large' in the 'Size' column are encoded as 2, 0, and 1, respectively. The 'Material' column is encoded as 1, 0, and 2 for 'wood', 'metal', and 'plastic', respectively."
   ]
  },
  {
   "cell_type": "code",
   "execution_count": null,
   "id": "1e37d93f-4cbc-4e2e-be7a-92c0ad6fa43a",
   "metadata": {},
   "outputs": [],
   "source": []
  },
  {
   "cell_type": "code",
   "execution_count": null,
   "id": "d4cb48a6-8434-49aa-9008-4eb1991ed90c",
   "metadata": {},
   "outputs": [],
   "source": []
  },
  {
   "cell_type": "markdown",
   "id": "7704234a-2a68-4b23-98c4-07dc368f62e5",
   "metadata": {},
   "source": [
    "Q5. Calculate the covariance matrix for the following variables in a dataset: Age, Income, and Education level. Interpret the results."
   ]
  },
  {
   "cell_type": "code",
   "execution_count": 4,
   "id": "32871b7a-7811-4ab7-bf11-67094dd01fc8",
   "metadata": {},
   "outputs": [
    {
     "name": "stdout",
     "output_type": "stream",
     "text": [
      "                Age       Income  Education\n",
      "Age            62.5     125000.0       25.0\n",
      "Income     125000.0  250000000.0    50000.0\n",
      "Education      25.0      50000.0       10.0\n"
     ]
    }
   ],
   "source": [
    "import pandas as pd\n",
    "\n",
    "# Create the dataset\n",
    "data = {\n",
    "    'Age': [25, 30, 35, 40, 45],\n",
    "    'Income': [50000, 60000, 70000, 80000, 90000],\n",
    "    'Education': [12, 14, 16, 18, 20]\n",
    "}\n",
    "\n",
    "# Convert dataset to a DataFrame\n",
    "df = pd.DataFrame(data)\n",
    "\n",
    "# Calculate the covariance matrix\n",
    "covariance_matrix = df.cov()\n",
    "\n",
    "# Print the covariance matrix\n",
    "print(covariance_matrix)\n"
   ]
  },
  {
   "cell_type": "markdown",
   "id": "f1e58a0b-2efb-4a0f-af9a-3733db8b2a29",
   "metadata": {},
   "source": [
    "Interpreting the results:\n",
    "\n",
    "- The diagonal elements of the covariance matrix represent the variances of each variable. \n",
    "- The off-diagonal elements of the covariance matrix represent the covariances between pairs of variables. Covariance measures the degree to which two variables vary together. "
   ]
  },
  {
   "cell_type": "code",
   "execution_count": null,
   "id": "7044f15c-56f6-4b90-8ba0-96ba1f4e4289",
   "metadata": {},
   "outputs": [],
   "source": []
  },
  {
   "cell_type": "code",
   "execution_count": null,
   "id": "c758fa36-84b5-48e7-b147-9e27d80bb591",
   "metadata": {},
   "outputs": [],
   "source": []
  },
  {
   "cell_type": "markdown",
   "id": "805ec411-03a9-4548-bdde-42c8fa9ef864",
   "metadata": {},
   "source": [
    "Q6. You are working on a machine learning project with a dataset containing several categorical variables, including \"Gender\" (Male/Female), \"Education Level\" (High School/Bachelor's/Master's/PhD), and \"Employment Status (Unemployed/Part-Time/Full-Time). Which encoding method would you use for\n",
    "each variable, and why?\n",
    "\n",
    "Answer--> Here's a recommended approach for encoding each variable:\n",
    "\n",
    "1. for Gender (Binary Categorical Variable: Male/Female):\n",
    "   Since \"Gender\" is a binary categorical variable with only two categories, it can be effectively encoded using a binary encoding or one-hot encoding.\n",
    "\n",
    "2. For Education Level (Ordinal Categorical Variable: High School, Bachelor's, Master's, PhD):\n",
    "   As \"Education Level\" is an ordinal categorical variable with a clear order or hierarchy among the categories, ordinal encoding is a suitable choice. For example, \"High School\" can be encoded as 0, \"Bachelor's\" as 1, \"Master's\" as 2, and \"PhD\" as 3.\n",
    "\n",
    "3. For Employment Status (Nominal Categorical Variable: Unemployed, Part-Time, Full-Time):\n",
    "   Since \"Employment Status\" is a nominal categorical variable with no inherent order or hierarchy, one-hot encoding is typically used."
   ]
  },
  {
   "cell_type": "code",
   "execution_count": null,
   "id": "06f0481b-ba44-4679-82b0-419be49018cc",
   "metadata": {},
   "outputs": [],
   "source": []
  },
  {
   "cell_type": "code",
   "execution_count": null,
   "id": "0551b9d0-2cae-4911-9ac0-87b6d067281e",
   "metadata": {},
   "outputs": [],
   "source": []
  },
  {
   "cell_type": "markdown",
   "id": "3eda4139-3425-4e6b-be26-64dff6dfe6df",
   "metadata": {},
   "source": [
    "Q7. You are analyzing a dataset with two continuous variables, \"Temperature\" and \"Humidity\", and two categorical variables, \"Weather Condition\" (Sunny/Cloudy/Rainy) and \"Wind Direction\" (North/South/ East/West). Calculate the covariance between each pair of variables and interpret the results."
   ]
  },
  {
   "cell_type": "code",
   "execution_count": 5,
   "id": "db12416d-071d-4c16-8286-acbfe344e824",
   "metadata": {},
   "outputs": [
    {
     "name": "stderr",
     "output_type": "stream",
     "text": [
      "/tmp/ipykernel_5552/1529118348.py:15: FutureWarning: The default value of numeric_only in DataFrame.cov is deprecated. In a future version, it will default to False. Select only valid columns or specify the value of numeric_only to silence this warning.\n",
      "  covariance = df.cov()\n"
     ]
    },
    {
     "data": {
      "text/html": [
       "<div>\n",
       "<style scoped>\n",
       "    .dataframe tbody tr th:only-of-type {\n",
       "        vertical-align: middle;\n",
       "    }\n",
       "\n",
       "    .dataframe tbody tr th {\n",
       "        vertical-align: top;\n",
       "    }\n",
       "\n",
       "    .dataframe thead th {\n",
       "        text-align: right;\n",
       "    }\n",
       "</style>\n",
       "<table border=\"1\" class=\"dataframe\">\n",
       "  <thead>\n",
       "    <tr style=\"text-align: right;\">\n",
       "      <th></th>\n",
       "      <th>Temperature</th>\n",
       "      <th>Humidity</th>\n",
       "    </tr>\n",
       "  </thead>\n",
       "  <tbody>\n",
       "    <tr>\n",
       "      <th>Temperature</th>\n",
       "      <td>9.3</td>\n",
       "      <td>16.8</td>\n",
       "    </tr>\n",
       "    <tr>\n",
       "      <th>Humidity</th>\n",
       "      <td>16.8</td>\n",
       "      <td>31.3</td>\n",
       "    </tr>\n",
       "  </tbody>\n",
       "</table>\n",
       "</div>"
      ],
      "text/plain": [
       "             Temperature  Humidity\n",
       "Temperature          9.3      16.8\n",
       "Humidity            16.8      31.3"
      ]
     },
     "execution_count": 5,
     "metadata": {},
     "output_type": "execute_result"
    }
   ],
   "source": [
    "import pandas as pd\n",
    "\n",
    "# Create the dataset\n",
    "data = {\n",
    "    'Temperature': [25, 28, 30, 22, 27],\n",
    "    'Humidity': [60, 65, 70, 55, 62],\n",
    "    'Weather Condition': ['Sunny', 'Cloudy', 'Rainy', 'Cloudy', 'Sunny'],\n",
    "    'Wind Direction': ['North', 'South', 'East', 'West', 'North']\n",
    "}\n",
    "\n",
    "# Calculate the covariance  \n",
    "df = pd.DataFrame(data)\n",
    "\n",
    "# finding the covariace\n",
    "covariance = df.cov()\n",
    "\n",
    "# Print the covariance\n",
    "covariance"
   ]
  },
  {
   "cell_type": "code",
   "execution_count": null,
   "id": "4c215436-3fa9-41af-bd9a-71161beafe8e",
   "metadata": {},
   "outputs": [],
   "source": []
  }
 ],
 "metadata": {
  "kernelspec": {
   "display_name": "Python 3 (ipykernel)",
   "language": "python",
   "name": "python3"
  },
  "language_info": {
   "codemirror_mode": {
    "name": "ipython",
    "version": 3
   },
   "file_extension": ".py",
   "mimetype": "text/x-python",
   "name": "python",
   "nbconvert_exporter": "python",
   "pygments_lexer": "ipython3",
   "version": "3.10.8"
  }
 },
 "nbformat": 4,
 "nbformat_minor": 5
}
