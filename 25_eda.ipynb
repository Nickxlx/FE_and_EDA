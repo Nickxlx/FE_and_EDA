{
 "cells": [
  {
   "cell_type": "markdown",
   "id": "cab33fe8-151f-4713-ab2a-ea4cf04476b0",
   "metadata": {},
   "source": [
    "# Flight Price:"
   ]
  },
  {
   "cell_type": "code",
   "execution_count": null,
   "id": "0ff902f2-a60c-4726-921b-a7ec08ff1b0c",
   "metadata": {},
   "outputs": [],
   "source": [
    "import pandas as pd\n",
    "import matplotlib.pyplot as plt\n",
    "import seaborn as sns\n",
    "import numpy as np"
   ]
  },
  {
   "cell_type": "code",
   "execution_count": null,
   "id": "35eb8886-1ffe-486c-8024-dc4a15e9bc93",
   "metadata": {},
   "outputs": [],
   "source": []
  },
  {
   "cell_type": "markdown",
   "id": "959a8962-3b99-42d8-b109-30120d79bf26",
   "metadata": {},
   "source": [
    "Q1. Load the flight price dataset and examine its dimensions. How many rows and columns does thedataset have?"
   ]
  },
  {
   "cell_type": "code",
   "execution_count": null,
   "id": "3dddecda-417e-463a-9b26-162b044a871c",
   "metadata": {},
   "outputs": [],
   "source": [
    "df = pd.read_excel(\"flight_price.xlsx\")\n",
    "df.info()"
   ]
  },
  {
   "cell_type": "markdown",
   "id": "6d8d6621-af3b-4326-95e3-76380d9437c5",
   "metadata": {},
   "source": [
    "## The no of row are 10682 and columns are 11 "
   ]
  },
  {
   "cell_type": "code",
   "execution_count": null,
   "id": "1ea4fff2-0e7e-4dd3-8e71-8445f4e433fe",
   "metadata": {},
   "outputs": [],
   "source": []
  },
  {
   "cell_type": "code",
   "execution_count": null,
   "id": "0e5a64da-c865-489a-be8d-93ffce58850c",
   "metadata": {},
   "outputs": [],
   "source": []
  },
  {
   "cell_type": "markdown",
   "id": "d9242fa9-e233-4517-8503-5f65846401c0",
   "metadata": {},
   "source": [
    "Q2. What is the distribution of flight prices in the dataset? Create a histogram to visualize the distribution.\n",
    "\n",
    "Answer--> from the visualization we can see that the distribution of price feature is Right skwed distribution"
   ]
  },
  {
   "cell_type": "code",
   "execution_count": null,
   "id": "63f81cc0-b1e5-4fcb-9179-03a0731cb02d",
   "metadata": {},
   "outputs": [],
   "source": [
    "sns.histplot(df[\"Price\"], kde = True)"
   ]
  },
  {
   "cell_type": "code",
   "execution_count": null,
   "id": "757781d5-926f-4866-a4ec-d39a062d57d3",
   "metadata": {},
   "outputs": [],
   "source": []
  },
  {
   "cell_type": "code",
   "execution_count": null,
   "id": "12c7d4d6-0f33-458c-96b8-521187a57f5b",
   "metadata": {},
   "outputs": [],
   "source": []
  },
  {
   "cell_type": "markdown",
   "id": "67c7ff27-e238-492c-9dfd-d5a7329929d1",
   "metadata": {},
   "source": [
    "Q3. What is the range of prices in the dataset? What is the minimum and maximum price?\n",
    "\n",
    "Answer--> The minimum and maximum price is\n",
    "\n",
    "- min = 1759.000000\n",
    "- max =\t79512.000000\n",
    "\n",
    "The range of prices in the dataset is\n",
    "\n",
    "- range = max - min = 7753\n"
   ]
  },
  {
   "cell_type": "code",
   "execution_count": null,
   "id": "1defcd86-6d7b-4dbb-92e9-388503d1338b",
   "metadata": {},
   "outputs": [],
   "source": [
    "df.describe()"
   ]
  },
  {
   "cell_type": "code",
   "execution_count": null,
   "id": "e11695ab-2b2d-4f94-8ec6-8a011c8d05c2",
   "metadata": {},
   "outputs": [],
   "source": []
  },
  {
   "cell_type": "code",
   "execution_count": null,
   "id": "b518ab42-0981-40e5-995d-5b5bc3f6ae34",
   "metadata": {},
   "outputs": [],
   "source": []
  },
  {
   "cell_type": "markdown",
   "id": "7a50672d-ea3d-4788-895a-b7c1f74e44f5",
   "metadata": {},
   "source": [
    "Q4. How does the price of flights vary by airline? Create a boxplot to compare the prices of different airlines.\n"
   ]
  },
  {
   "cell_type": "code",
   "execution_count": null,
   "id": "36c60c32-bb03-456e-b49c-96d321c4022d",
   "metadata": {},
   "outputs": [],
   "source": [
    "df[\"Airline\"].unique()"
   ]
  },
  {
   "cell_type": "code",
   "execution_count": null,
   "id": "e4f1e4f9-17f5-4dc2-8251-c32587cf4090",
   "metadata": {},
   "outputs": [],
   "source": [
    "plt.figure(figsize=(20,10))\n",
    "sns.boxplot(x= df[\"Airline\"], y = df[\"Price\"], data = df)\n",
    "plt.legend(df[\"Airline\"].unique(), loc = 1)\n",
    "plt.title(\"Price Distribution by Airline\")"
   ]
  },
  {
   "cell_type": "code",
   "execution_count": null,
   "id": "0d3a47d7-689a-4a39-9609-a28c50368e78",
   "metadata": {},
   "outputs": [],
   "source": []
  },
  {
   "cell_type": "code",
   "execution_count": null,
   "id": "ea0f0f80-0fc1-4c73-8edb-d381ed278f14",
   "metadata": {},
   "outputs": [],
   "source": []
  },
  {
   "cell_type": "markdown",
   "id": "8a5c2652-551c-4d6d-b843-63c8eac83d15",
   "metadata": {},
   "source": [
    "Q5. Are there any outliers in the dataset? Identify any potential outliers using a boxplot and describe how\n",
    "they may impact your analysis.\n",
    "\n",
    "Answer--> There are much  outliers above 23000 in the price feature .\n",
    "\n",
    "Potential outliers are points that lie outside the whiskers of the boxplot, represented by individual points beyond the upper or lower extremes. Outliers may impact your analysis in several ways:\n",
    "\n",
    "- Influence on statistical measures: Outliers can significantly affect statistical measures such as the mean and standard deviation, making them less representative of the central tendency and variability of the data.\n",
    "\n",
    "- Skewing distribution: Outliers can cause the distribution of the data to become skewed, affecting assumptions made by various statistical techniques that assume a normal distribution.\n",
    "\n",
    "- Impact on models: Outliers can disproportionately influence model fitting and prediction, leading to biased parameter estimates and reduced model performance."
   ]
  },
  {
   "cell_type": "code",
   "execution_count": null,
   "id": "40038097-d08e-4c92-acad-bc5a78f5f5fe",
   "metadata": {},
   "outputs": [],
   "source": [
    "# Create a boxplot for each feature\n",
    "plt.figure(figsize=(10, 5))\n",
    "sns.boxplot(data=df)\n",
    "plt.title(\"Boxplot of Features\")\n",
    "plt.show()"
   ]
  },
  {
   "cell_type": "code",
   "execution_count": null,
   "id": "f2b7e77b-6d56-4406-b38a-af4d189ba290",
   "metadata": {},
   "outputs": [],
   "source": []
  },
  {
   "cell_type": "code",
   "execution_count": null,
   "id": "a23ca762-58cd-44b9-b814-e623abd6d2a1",
   "metadata": {},
   "outputs": [],
   "source": []
  },
  {
   "cell_type": "markdown",
   "id": "ce80f7b8-bcac-49dd-97ba-1f17e397c86d",
   "metadata": {},
   "source": [
    "Q6. You are working for a travel agency, and your boss has asked you to analyze the Flight Price dataset to identify the peak travel season. What features would you analyze to identify the peak season, and how would you present your findings to your boss?\n",
    "\n",
    "Answer--> TO solve this i would use Date_of_ajourney feature to calculate the peal travel season"
   ]
  },
  {
   "cell_type": "code",
   "execution_count": null,
   "id": "8be6c5e7-dac2-404f-a877-ebfdd496f199",
   "metadata": {},
   "outputs": [],
   "source": [
    "df.head(3)"
   ]
  },
  {
   "cell_type": "code",
   "execution_count": null,
   "id": "bbcbc894-aaf5-4cdc-acba-71d15daaa004",
   "metadata": {},
   "outputs": [],
   "source": [
    "df[\"Date_of_Journey\"].str.split(\"/\").str[1].value_counts().head(2)"
   ]
  },
  {
   "cell_type": "code",
   "execution_count": null,
   "id": "35849456-cf3b-45bf-b1f4-e47c7e6cb31d",
   "metadata": {},
   "outputs": [],
   "source": [
    "sns.countplot(x = df[\"Date_of_Journey\"].str.split(\"/\").str[1], data = df);\n",
    "plt.ylabel(\"No of flights\");"
   ]
  },
  {
   "cell_type": "markdown",
   "id": "107f62fc-9ace-404c-b723-289ee81b674b",
   "metadata": {},
   "source": [
    "## Observation \n",
    "\n",
    "- From The plotting we are getting that the most traived months are 5 and 6 according to that the peak travel season will be summer "
   ]
  },
  {
   "cell_type": "code",
   "execution_count": null,
   "id": "0aa32edd-b243-411c-949c-06c66d946574",
   "metadata": {},
   "outputs": [],
   "source": []
  },
  {
   "cell_type": "code",
   "execution_count": null,
   "id": "4092ac70-b765-4d97-aa17-9674597cd26f",
   "metadata": {},
   "outputs": [],
   "source": []
  },
  {
   "cell_type": "markdown",
   "id": "e3ae1e2d-27f7-4905-b0e3-b7a10de22e2b",
   "metadata": {},
   "source": [
    "Q7. You are a data analyst for a flight booking website, and you have been asked to analyze the Flight Price dataset to identify any trends in flight prices. What features would you analyze to identify these trends, and what visualizations would you use to present your findings to your team?\n",
    "\n",
    "Answer--> To analyze the Flight Price dataset and identify trends in flight prices, we can consider several features that provide insights into price variations. Here are some key features to analyze:\n",
    "\n",
    "- Date of Journey: Analyze the relationship between the date of the journey and flight prices to identify any seasonal or temporal trends.\n",
    "\n",
    "- Airline: Examine how different airlines' prices compare to identify variations and trends across different carriers.\n",
    "\n",
    "- Source and Destination: Investigate how flight prices vary based on the source and destination locations.\n",
    "\n",
    "- Duration of the Flight: Explore the relationship between the duration of the flight and the corresponding price."
   ]
  },
  {
   "cell_type": "code",
   "execution_count": null,
   "id": "87dd96b3-61ad-418b-9b5f-fe3a90037503",
   "metadata": {},
   "outputs": [],
   "source": [
    "df.head(2)"
   ]
  },
  {
   "cell_type": "code",
   "execution_count": null,
   "id": "8211bfb3-5b30-42d6-b597-86e6b11cba23",
   "metadata": {},
   "outputs": [],
   "source": [
    "import matplotlib.pyplot as plt\n",
    "import seaborn as sns\n",
    "plt.figure(figsize=(25, 15))\n",
    "\n",
    "# Line plot: Flight prices over time\n",
    "plt.subplot(2,2,1)\n",
    "sns.lineplot(x='Date_of_Journey', y='Price', data=df)\n",
    "plt.title('Flight Prices Over Time')\n",
    "plt.xlabel('Date of Journey')\n",
    "plt.ylabel('Price')\n",
    "plt.xticks(rotation=45)\n",
    "\n",
    "# Line plot: Flight prices by airline\n",
    "plt.subplot(2,2,2)\n",
    "sns.lineplot(x='Airline', y='Price', data=df)\n",
    "plt.title('Flight Prices by Airline')\n",
    "plt.xlabel('Airline')\n",
    "plt.ylabel('Price')\n",
    "plt.xticks(rotation=45)\n",
    "\n",
    "# Bar plot: Average flight prices by source and destination\n",
    "plt.subplot(2,2,3)\n",
    "sns.barplot(x='Source', y='Price', hue='Destination', data=df)\n",
    "plt.title('Average Flight Prices by Source and Destination')\n",
    "plt.xlabel('Source')\n",
    "plt.ylabel('Price')\n",
    "plt.xticks(rotation=45)\n",
    "plt.legend(title='Destination')\n",
    "\n",
    "# Scatter plot: Flight prices by duration\n",
    "plt.subplot(2,2,4)\n",
    "sns.scatterplot(x='Duration', y='Price', data=df)\n",
    "plt.title('Flight Prices by Duration')\n",
    "plt.xlabel('Duration (in minutes)')\n",
    "plt.ylabel('Price')\n",
    "\n",
    "plt.tight_layout()"
   ]
  },
  {
   "cell_type": "markdown",
   "id": "9d20bc34-51ab-48b8-90ac-ef537591a15c",
   "metadata": {},
   "source": [
    "## Observation\n",
    "\n",
    "- from the date time feature we can see that the fkight price are more in the summers(mainly in the month of 5 and 6)\n",
    "- from the Flight prices by airline plot we can see that the flight price are very high for Premium economy and Airways Business\n",
    "- from the Average flight prices by source and destination plot we can see that the flight price are very high for destination of Dehli \n",
    "- from the Flight prices by duration plot we can see that the flight price are rearly varry for any duration of flight"
   ]
  },
  {
   "cell_type": "code",
   "execution_count": null,
   "id": "43a646f0-8813-4bd1-974d-2c4148810a37",
   "metadata": {},
   "outputs": [],
   "source": []
  },
  {
   "cell_type": "code",
   "execution_count": null,
   "id": "1b8daeee-c561-4917-b457-dc389a165b56",
   "metadata": {},
   "outputs": [],
   "source": []
  },
  {
   "cell_type": "markdown",
   "id": "82dcc5fa-fb27-4b78-9a0b-239cebf772aa",
   "metadata": {},
   "source": [
    "Q8. You are a data scientist working for an airline company, and you have been asked to analyze the Flight Price dataset to identify the factors that affect flight prices. What features would you analyze to identify these factors, and how would you present your findings to the management team?\n",
    "\n",
    "Answer--> To identify the factors that affect flight prices in the Flight Price dataset,i will analyze several features that can provide insights into the pricing dynamics. \n",
    "\n",
    "Here are some key features to consider:\n",
    "\n",
    "1. Airline: I will investigate the price variations across different airlines to determine if certain airlines consistently have higher or lower prices.\n",
    "\n",
    "2. Source and Destination: I will examine how flight prices differ based on the source and destination cities, identifying specific routes with higher or lower prices.\n",
    "\n",
    "3. Date of Journey: I will analyze the relationship between the date of journey and flight prices to uncover any seasonal or periodic patterns that impact pricing.\n",
    "\n",
    "4. Duration of the Flight: I will explore whether there is a correlation between the duration of the flight and the price, considering if longer flights tend to have higher prices.\n",
    "\n",
    "\n",
    "To present my findings to the management team, I will follow these steps:\n",
    "\n",
    "1. Data Exploration: I will conduct exploratory data analysis to gain a comprehensive understanding of the dataset, examining distributions, correlations, and trends related to flight prices.\n",
    "\n",
    "2. Statistical Analysis: I will perform statistical tests and correlations to quantify the relationships between each feature and flight prices, using techniques such as hypothesis testing, ANOVA, or correlation analysis.\n",
    "\n",
    "3. Feature Importance: I will utilize machine learning algorithms or feature selection techniques to determine the relative importance of each feature in predicting flight prices. This will help identify the key factors that significantly influence pricing.\n",
    "\n",
    "4. Visualizations: I will create visually appealing and informative visualizations, such as bar plots, scatter plots, or box plots, to present the relationships between different features and flight prices. I will ensure that the visualizations are labeled, titled, and properly annotated for clarity.\n",
    "\n",
    "5. Summary and Recommendations: I will summarize the key findings and insights obtained from the analysis. I will identify the factors that have the most significant impact on flight prices and provide actionable recommendations to the management team. These recommendations may include pricing strategies, route optimizations, or service enhancements aimed at maximizing revenue and customer satisfaction.\n"
   ]
  },
  {
   "cell_type": "code",
   "execution_count": null,
   "id": "e27b73a7-5071-41d1-9da7-48f0a233109a",
   "metadata": {},
   "outputs": [],
   "source": []
  },
  {
   "cell_type": "code",
   "execution_count": null,
   "id": "b15d7e98-3cee-4a83-b033-3792f787639c",
   "metadata": {},
   "outputs": [],
   "source": []
  },
  {
   "cell_type": "markdown",
   "id": "a59a6fd0-b904-4ab3-9801-c78ffc86e77d",
   "metadata": {},
   "source": [
    "# Google Playstore:"
   ]
  },
  {
   "cell_type": "markdown",
   "id": "b6b3ffd6-b7a6-4351-b5fb-fabca2c4047b",
   "metadata": {},
   "source": [
    "Q9. Load the Google Playstore dataset and examine its dimensions. How many rows and columns does the dataset have?"
   ]
  },
  {
   "cell_type": "code",
   "execution_count": null,
   "id": "785d2917-e7e5-4c27-a733-e1ea7f0468dc",
   "metadata": {},
   "outputs": [],
   "source": [
    "# Read the CSV file from the URL\n",
    "url = \"https://raw.githubusercontent.com/krishnaik06/playstore-Dataset/main/googleplaystore.csv\"\n",
    "df1 = pd.read_csv(url)\n",
    "df1.info()"
   ]
  },
  {
   "cell_type": "markdown",
   "id": "30ecfeb7-32fa-4e9f-a73c-2e8ffdd05401",
   "metadata": {},
   "source": [
    "## No of row are 10841 and No of columns are 13 "
   ]
  },
  {
   "cell_type": "code",
   "execution_count": null,
   "id": "f9558105-b8b7-4b70-8d76-cfc6089aab08",
   "metadata": {},
   "outputs": [],
   "source": []
  },
  {
   "cell_type": "code",
   "execution_count": null,
   "id": "9ce2fba5-8513-4da2-89a7-cb28697fa158",
   "metadata": {},
   "outputs": [],
   "source": []
  },
  {
   "cell_type": "markdown",
   "id": "39817c43-5ecc-4cf0-8693-0ffed4b23a38",
   "metadata": {},
   "source": [
    "Q10. How does the rating of apps vary by category? Create a boxplot to compare the ratings of different app categories."
   ]
  },
  {
   "cell_type": "code",
   "execution_count": null,
   "id": "096c4652-1e31-4883-bf0b-17b353ce8424",
   "metadata": {},
   "outputs": [],
   "source": [
    "# Extract the relevant columns: Category and Rating\n",
    "data = df1[['Category', 'Rating']].dropna()  # Remove any rows with missing values\n",
    "\n",
    "# Create the box plot\n",
    "sns.boxplot(x= df1[\"Category\"], y = df1[\"Rating\"], data = data)\n",
    "plt.ylim(0, 6)\n",
    "plt.xticks(rotation = 90)\n",
    "plt.title('Rating of Apps by Category')\n",
    "plt.show()"
   ]
  },
  {
   "cell_type": "code",
   "execution_count": null,
   "id": "2cf9e033-0eb3-4dfd-b977-5e56902394ea",
   "metadata": {},
   "outputs": [],
   "source": []
  },
  {
   "cell_type": "code",
   "execution_count": null,
   "id": "e8a7235e-ad08-4857-91ad-fe7ff976af1c",
   "metadata": {},
   "outputs": [],
   "source": []
  },
  {
   "cell_type": "markdown",
   "id": "8d87fbc4-7d8b-42db-9334-7998b7d8c578",
   "metadata": {},
   "source": [
    "Q11. Are there any missing values in the dataset? Identify any missing values and describe how they may impact your analysis."
   ]
  },
  {
   "cell_type": "code",
   "execution_count": null,
   "id": "1b6f5bb1-8464-4dce-a81d-1e0e4422f0cc",
   "metadata": {},
   "outputs": [],
   "source": [
    "df1.isnull().sum()"
   ]
  },
  {
   "cell_type": "markdown",
   "id": "8f65be6d-1124-44e4-a3ca-00b6eb466704",
   "metadata": {},
   "source": [
    "As we can see that here are \n",
    "- 1474 missing values in Rating category  \n",
    "- 8 missing value in Current Ver \n",
    "- 3 in Android Ver \n",
    "- 1 in Type and Content Rating feature   \n",
    "\n",
    "As it believes that outliers might introduce bias or noise to the analysis so we should remove them while data cleaning "
   ]
  },
  {
   "cell_type": "code",
   "execution_count": null,
   "id": "0353d5d5-d3bf-448c-9513-4f55c66d161d",
   "metadata": {},
   "outputs": [],
   "source": []
  },
  {
   "cell_type": "code",
   "execution_count": null,
   "id": "05675c4e-31c7-4c62-a95d-7792d2e713d9",
   "metadata": {},
   "outputs": [],
   "source": []
  },
  {
   "cell_type": "markdown",
   "id": "19cc09e8-994b-41bd-ad6d-732de976d03d",
   "metadata": {},
   "source": [
    "Q12. What is the relationship between the size of an app and its rating? Create a scatter plot to visualize the relationship."
   ]
  },
  {
   "cell_type": "code",
   "execution_count": null,
   "id": "d8bb9c52-b4a7-4d29-b665-aa72b0b0f876",
   "metadata": {},
   "outputs": [],
   "source": [
    "plt.figure(figsize=(15, 7))\n",
    "\n",
    "# droping null rows from the features\n",
    "data = (df1[[\"Rating\",\"Size\"]]).dropna()\n",
    "\n",
    "# #converting Mb into Kb\n",
    "# data[\"size\"] = data[\"size\"].str.replace(\"M\", \"\").str.replace(\"k\", \"\").astype(float)\n",
    "\n",
    "def convert_kb(Size):\n",
    "    if \"M\" in Size:\n",
    "        Size = Size.replace(\"M\", \"\")\n",
    "        Size = float(Size)*1024\n",
    "        return Size\n",
    "    elif \"k\" in Size:\n",
    "        Size = Size.replace(\"k\", \"\")\n",
    "        return float(Size)\n",
    "    else:\n",
    "        return None\n",
    "\n",
    "data[\"Size\"] = data[\"Size\"].apply(convert_kb)\n",
    "\n",
    "sns.scatterplot(x=data[\"Size\"], y = data[\"Rating\"], data = data)\n",
    "plt.ylim(0,6)\n",
    "plt.xticks(rotation = 90)\n",
    "plt.title(\"App Size Vs Rating\")\n",
    "plt.xlabel(\"Size in Kb\")\n",
    "plt.show()"
   ]
  },
  {
   "cell_type": "markdown",
   "id": "c58431e8-c727-4106-bb16-8227bdfbb7f8",
   "metadata": {},
   "source": [
    "## Observation\n",
    "\n",
    "- From the ploing we are getting that as the size of the app is increating the Rating number of rating also decresing \n",
    "\n",
    "- lesser is the Size Max no of rating "
   ]
  },
  {
   "cell_type": "code",
   "execution_count": null,
   "id": "571af2c3-9c6e-46fb-9316-bb521dce284a",
   "metadata": {},
   "outputs": [],
   "source": []
  },
  {
   "cell_type": "code",
   "execution_count": null,
   "id": "223e2824-077b-4d94-bd99-e6714b015050",
   "metadata": {},
   "outputs": [],
   "source": []
  },
  {
   "cell_type": "markdown",
   "id": "f1c495d3-39ce-4866-8f50-fb9f61a89ba5",
   "metadata": {},
   "source": [
    "Q13. How does the type of app affect its price? Create a bar chart to compare average prices by app type."
   ]
  },
  {
   "cell_type": "code",
   "execution_count": null,
   "id": "e5068b11-ba28-49be-9d75-67c3a36a5785",
   "metadata": {},
   "outputs": [],
   "source": [
    "# finding the non sumaric value in \n",
    "df1[\"Reviews\"].str.isnumeric().sum() "
   ]
  },
  {
   "cell_type": "code",
   "execution_count": null,
   "id": "f04eba5c-fcee-4214-bdd9-25c3ef7ee861",
   "metadata": {},
   "outputs": [],
   "source": [
    "df1[~df1[\"Reviews\"].str.isnumeric()]"
   ]
  },
  {
   "cell_type": "code",
   "execution_count": null,
   "id": "40c4134a-96bd-4acd-9522-155241cbbf17",
   "metadata": {},
   "outputs": [],
   "source": [
    "df1=df1.drop(10472).reset_index(drop = True)"
   ]
  },
  {
   "cell_type": "code",
   "execution_count": null,
   "id": "bd018444-665a-44a0-839c-b3531791f8fb",
   "metadata": {},
   "outputs": [],
   "source": [
    "# droping the null values form the feature\n",
    "data  = df1[[\"Type\", \"Price\"]].dropna()\n",
    "\n",
    "# Removing the $ sign\n",
    "data.Price =  data.Price.str.replace(\"$\", \"\").astype(float)\n",
    "\n",
    "# Calculate the average prices by app type\n",
    "avg_prices = data.groupby('Type')['Price'].mean().reset_index()\n",
    "\n",
    "sns.barplot(x = data[\"Type\"], y = data[\"Price\"], data = avg_prices )\n",
    "plt.title('Average Price by App Type')\n",
    "plt.show()"
   ]
  },
  {
   "cell_type": "markdown",
   "id": "e3d2c947-7af9-4987-afcf-44a5b6473ab5",
   "metadata": {},
   "source": [
    "# Observation \n",
    "\n",
    "- There are two categories in App Type Free and Paid \n",
    "- where free Type app is free app who's price is null and paid app start from 0 to 13- 14 dollars  "
   ]
  },
  {
   "cell_type": "code",
   "execution_count": null,
   "id": "e8c497c4-624b-4682-b5e9-9a916d4b3093",
   "metadata": {},
   "outputs": [],
   "source": []
  },
  {
   "cell_type": "code",
   "execution_count": null,
   "id": "4390252a-a600-414a-b1d7-bbfdd9e050c1",
   "metadata": {},
   "outputs": [],
   "source": []
  },
  {
   "cell_type": "markdown",
   "id": "d35738fd-6783-48b3-a6f1-5f0923f24bda",
   "metadata": {},
   "source": [
    "Q14. What are the top 10 most popular apps in the dataset? Create a frequency table to identify the apps with the highest number of installs."
   ]
  },
  {
   "cell_type": "code",
   "execution_count": null,
   "id": "e7507c9d-eee2-4ee0-a389-784dad1c7942",
   "metadata": {},
   "outputs": [],
   "source": [
    "df1.Installs.unique()"
   ]
  },
  {
   "cell_type": "code",
   "execution_count": null,
   "id": "67e74392-c7f1-45db-a988-c4566c9f8419",
   "metadata": {},
   "outputs": [],
   "source": [
    "# removing strings and conveting dtype \n",
    "df1[\"Installs\"] = df1[\"Installs\"].str.replace(\",\", \"\")\n",
    "df1[\"Installs\"] = df1[\"Installs\"].str.replace(\"+\", \"\").astype(float)"
   ]
  },
  {
   "cell_type": "code",
   "execution_count": null,
   "id": "3dc30788-bda4-48d8-816c-be123525fd86",
   "metadata": {},
   "outputs": [],
   "source": [
    "# finding the top 10 most useing app on playstore\n",
    "Top_10 = df1.groupby(\"App\")[\"Installs\"].value_counts().sort_values(ascending=False).head(10)"
   ]
  },
  {
   "cell_type": "code",
   "execution_count": null,
   "id": "b2556126-4b07-439b-938d-67101c214a69",
   "metadata": {},
   "outputs": [],
   "source": [
    "Top_10"
   ]
  },
  {
   "cell_type": "code",
   "execution_count": null,
   "id": "d6034b0f-e9e6-465b-892f-38ffdebd682b",
   "metadata": {},
   "outputs": [],
   "source": []
  },
  {
   "cell_type": "code",
   "execution_count": null,
   "id": "a6188150-2411-4817-a2c7-6ce1b0a839c2",
   "metadata": {},
   "outputs": [],
   "source": []
  },
  {
   "cell_type": "markdown",
   "id": "a1646bd4-04fa-4ee2-b268-5cc00e24f17c",
   "metadata": {},
   "source": [
    "Q15. A company wants to launch a new app on the Google Playstore and has asked you to analyze the\n",
    "Google Playstore dataset to identify the most popular app categories. How would you approach this\n",
    "task, and what features would you analyze to make recommendations to the company?"
   ]
  },
  {
   "cell_type": "code",
   "execution_count": null,
   "id": "15e0143d-9c64-4390-bc4c-94f3d7561249",
   "metadata": {},
   "outputs": [],
   "source": [
    "plt.figure(figsize=(25, 15 ))\n",
    "\n",
    "# Count the number of apps in each category\n",
    "category_counts = df1['Category'].value_counts()\n",
    "\n",
    "# Create a pie chart\n",
    "plt.pie(category_counts, labels=category_counts.index, autopct='%1.1f%%')\n",
    "\n",
    "# Set plot title and labels\n",
    "plt.title('Distribution of App Categories')\n",
    "plt.xlabel('Count')\n",
    "\n",
    "# Display the plot\n",
    "plt.show()"
   ]
  },
  {
   "cell_type": "markdown",
   "id": "4ddba2f8-06aa-401d-b306-a1234719e6ef",
   "metadata": {},
   "source": [
    "# Observations\n",
    "There are more kinds of apps in playstore which are under category of family, games & tools\n",
    "\n",
    "Beatuty,comics,arts and weather kinds of apps are very less in playstore\n",
    "\n",
    "# Recommendations to the company\n",
    "\n",
    "Company should launch an app under category of family, games & tools sice they have more no of installs and popular among many people"
   ]
  },
  {
   "cell_type": "code",
   "execution_count": null,
   "id": "93939608-8cd9-4e0a-a5f5-cd4c4e04a3cc",
   "metadata": {},
   "outputs": [],
   "source": []
  },
  {
   "cell_type": "code",
   "execution_count": null,
   "id": "3a6a3889-d185-4534-bedd-ce02c27de7f2",
   "metadata": {},
   "outputs": [],
   "source": []
  },
  {
   "cell_type": "markdown",
   "id": "bc930cc6-4021-41f6-8aac-d7f12d1c3edd",
   "metadata": {},
   "source": [
    "Q16. A mobile app development company wants to analyze the Google Playstore dataset to identify the most successful app developers. What features would you analyze to make recommendations to the company, and what data visualizations would you use to present your findings?"
   ]
  },
  {
   "cell_type": "markdown",
   "id": "66ad5155-b392-4962-b7bc-7c8d3d1e5aaf",
   "metadata": {},
   "source": [
    "To identify the most successful app developers in the Google Play Store dataset, we can analyze various features that provide insights into an app's performance and popularity. Here are some key features we can analyze:\n",
    "\n",
    "- App Ratings: Analyze the average ratings of apps developed by different developers. Higher average ratings indicate better user satisfaction and app quality.\n",
    "\n",
    "- Number of Installs: Examine the number of installs for apps developed by different developers. This metric reflects the popularity and reach of their apps.\n",
    "\n",
    "- Reviews: Evaluate the number of reviews received by apps developed by different developers. Higher review counts indicate higher user engagement and interaction with the app.\n",
    "\n",
    "- App Category: Investigate the distribution of app categories developed by different developers. This analysis can identify developers specializing in specific app categories.\n",
    "\n",
    "- App Size: Analyze the average app sizes developed by different developers. This can provide insights into the optimization and efficiency of their app development practices.\n",
    "\n",
    "To present your findings, you can utilize various data visualizations depending on the specific analysis and the nature of the data. Here are some visualization options:\n",
    "\n",
    "- Bar Chart: Use a bar chart to compare average ratings, number of installs, or number of reviews across different developers. This can provide a clear visual comparison of the performance metrics.\n",
    "\n",
    "- Pie Chart: Utilize a pie chart to represent the distribution of app categories developed by different developers. This visualization can highlight the developers' specialization in specific app categories.\n",
    "\n",
    "- Scatter Plot: Create a scatter plot to analyze the relationship between app size and ratings or installs. This can help identify any correlations or patterns between these features.\n",
    "\n",
    "- Heatmap: Generate a heatmap to visualize the correlation matrix between different features such as ratings, installs, reviews, and app size. This can provide a comprehensive view of the relationships between various metrics."
   ]
  },
  {
   "cell_type": "code",
   "execution_count": null,
   "id": "65e61076-07e2-4868-b158-2f1f51156cf3",
   "metadata": {},
   "outputs": [],
   "source": []
  },
  {
   "cell_type": "code",
   "execution_count": null,
   "id": "344367b8-d6ad-4faf-a320-236fa1875c24",
   "metadata": {},
   "outputs": [],
   "source": []
  },
  {
   "cell_type": "markdown",
   "id": "bb28bde3-07e2-413f-9fd6-91c0f1740a3c",
   "metadata": {},
   "source": [
    "Q17. A marketing research firm wants to analyze the Google Playstore dataset to identify the best time to launch a new app. What features would you analyze to make recommendations to the company, and what data visualizations would you use to present your findings?"
   ]
  },
  {
   "cell_type": "markdown",
   "id": "072ef550-d4f5-4901-b9ef-738b1ea9e6ea",
   "metadata": {},
   "source": [
    "To analyze the Google Play Store dataset and identify the best time to launch a new app, several features can be considered. Here are some key features to analyze:\n",
    "\n",
    "1. Rating: Evaluate the average rating of apps launched during different time periods. Determine if there are any noticeable trends or patterns in ratings based on launch time.\n",
    "\n",
    "2. Reviews: Analyze the number of reviews received by apps launched at different times. Look for correlations between the number of reviews and the launch time to identify potential factors that contribute to higher review rates.\n",
    "\n",
    "3. Installs: Examine the number of app installations based on launch time. Identify periods when app installations tend to be higher and investigate possible reasons behind the trends.\n",
    "\n",
    "4. Category: Group the apps into categories and assess if certain categories perform better when launched at specific times. This analysis can help identify potential niche markets or specific genres that have higher chances of success during particular time periods.\n",
    "\n",
    "5. Last Updated: Determine if the recency of an app's last update affects its performance. Analyze how frequently successful apps are updated and identify any correlations between update frequency and launch time.\n",
    "\n",
    "6. Content Rating: Explore the relationship between content ratings and launch time. Determine if there are any preferences or trends among users regarding the content rating of newly launched apps.\n",
    "\n",
    "To present the findings, you can use various data visualizations, such as:\n",
    "\n",
    "1. Line Charts: Use line charts to display trends in ratings, reviews, or installs over time. This visualization can help identify patterns and determine the best launch time based on the highest performance indicators.\n",
    "\n",
    "2. Bar Charts: Utilize bar charts to compare the average ratings, number of reviews, or installations across different launch time periods or categories. This visualization can provide a clear comparison and highlight the optimal launch time or category.\n",
    "\n",
    "3. Scatter Plots: Create scatter plots to visualize the relationship between two variables, such as the number of reviews and launch time or content rating. This visualization can help identify any correlations or outliers.\n",
    "\n",
    "4. Heat Maps: Construct heat maps to showcase the performance of different categories or genres based on launch time. This visualization can provide a visual summary of the data and highlight the best combinations for launching an app.\n",
    "\n",
    "5. Box Plots: Utilize box plots to compare and analyze the distribution of ratings, reviews, or installations across different launch time periods. This visualization can identify the median, quartiles, and outliers, providing a comprehensive understanding of the data.\n",
    "\n",
    "Remember, the choice of data visualizations may vary depending on the specific insights and correlations you discover during the analysis process."
   ]
  },
  {
   "cell_type": "code",
   "execution_count": null,
   "id": "466f3cfa-2d8f-4d02-bded-ae1421665b7b",
   "metadata": {},
   "outputs": [],
   "source": []
  },
  {
   "cell_type": "code",
   "execution_count": null,
   "id": "14a65d1b-4e24-4c88-ae0d-232e374ba034",
   "metadata": {},
   "outputs": [],
   "source": []
  }
 ],
 "metadata": {
  "kernelspec": {
   "display_name": "Python 3 (ipykernel)",
   "language": "python",
   "name": "python3"
  },
  "language_info": {
   "codemirror_mode": {
    "name": "ipython",
    "version": 3
   },
   "file_extension": ".py",
   "mimetype": "text/x-python",
   "name": "python",
   "nbconvert_exporter": "python",
   "pygments_lexer": "ipython3",
   "version": "3.10.8"
  }
 },
 "nbformat": 4,
 "nbformat_minor": 5
}
