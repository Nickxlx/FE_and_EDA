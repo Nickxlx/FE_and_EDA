{
 "cells": [
  {
   "cell_type": "markdown",
   "id": "86e43fc8-3351-45a4-8008-95394636fbbd",
   "metadata": {},
   "source": [
    "Q1:- Explain the following with an example:\n",
    "1) Artificial Intelligence\n",
    "2) Machine Learning\n",
    "3) Deep Learning"
   ]
  },
  {
   "cell_type": "markdown",
   "id": "507cd72b-9d5c-4f1b-9eaa-aac49024cf2a",
   "metadata": {},
   "source": [
    "Answer-->Here's an explanation of each term with an example:\n",
    "\n",
    "1. Artificial Intelligence (AI):\n",
    "Artificial Intelligence refers to the development of computer systems that can perform tasks that typically require human intelligence. \n",
    "\n",
    "Example: An example of AI is a virtual assistant like Amazon's Alexa or Apple's Siri.\n",
    "\n",
    "2. Machine Learning (ML):\n",
    "Machine Learning is a subset of AI that focuses on developing algorithms and models that allow computers to learn from data and make predictions or decisions without explicit programming.\n",
    "\n",
    "Example: A common example of ML is email spam filtering. By training a machine learning model on a labeled dataset of emails (spam or non-spam), the model can learn to identify patterns indicative of spam emails. It can then predict and filter out incoming spam emails in real-time, based on the learned patterns.\n",
    "\n",
    "3. Deep Learning:\n",
    "Deep Learning is a subfield of machine learning that utilizes artificial neural networks with multiple layers (deep architectures) to extract and learn hierarchical representations of data. Deep learning models are designed to automatically learn intricate patterns and features from large amounts of data, enabling them to solve complex tasks.\n",
    "\n",
    "Example: An example of deep learning is image recognition. Deep neural networks, such as Convolutional Neural Networks (CNNs), can be trained on massive collections of labeled images to recognize objects in images with high accuracy. For instance, a deep learning model can be trained to identify various objects like cars, bicycles, or pedestrians in images, enabling autonomous vehicles to perceive their surroundings."
   ]
  },
  {
   "cell_type": "code",
   "execution_count": null,
   "id": "ceed646c-1a09-4085-8d57-bf0601a82f6b",
   "metadata": {},
   "outputs": [],
   "source": []
  },
  {
   "cell_type": "code",
   "execution_count": null,
   "id": "b1023724-8c83-4790-866c-5f8622d925d7",
   "metadata": {},
   "outputs": [],
   "source": []
  },
  {
   "cell_type": "markdown",
   "id": "5e8358c0-1907-4ccd-b71a-671570894dce",
   "metadata": {},
   "source": [
    "Q2- What is Supervised learning? List some examples of Supervised learning.\n",
    "\n",
    "Answer--> Supervised learning is a type of machine learning where a model is trained on labeled data, meaning the input data is paired with corresponding target labels or desired outputs. The goal of supervised learning is to learn a mapping function that can accurately predict the output for new, unseen inputs.\n",
    "\n",
    "Here are some examples of supervised learning algorithms:\n",
    " \n",
    "    1 Predicting whether an email is spam or not based on email features.\n",
    "    2 Predicting house prices based on features like area, number of bedrooms, and location."
   ]
  },
  {
   "cell_type": "code",
   "execution_count": null,
   "id": "025cb9fe-b52b-4ba6-bf2a-cd76cefaef1d",
   "metadata": {},
   "outputs": [],
   "source": []
  },
  {
   "cell_type": "code",
   "execution_count": null,
   "id": "f08ad29d-9dee-454c-bb6d-7c67a11847e2",
   "metadata": {},
   "outputs": [],
   "source": []
  },
  {
   "cell_type": "markdown",
   "id": "9b25cc9c-cb7e-49a6-8cb5-6e472d1190fa",
   "metadata": {},
   "source": [
    "Q3-What is unSupervised learning? List some examples of unSupervised learning.\n",
    "\n",
    "Answer--> Unsupervised learning is a type of machine learning where the model is trained on unlabeled data, meaning the input data does not have corresponding target labels or desired outputs. The goal of unsupervised learning is to find patterns, structures, or relationships within the data without any prior knowledge of the output.\n",
    "\n",
    "Here are some examples of unsupervised learning algorithms:\n",
    "\n",
    "    1 Unsupervised learning algorithms can be used to segment customers into distinct groups based on their purchasing behavior, demographics, or preferences. This information can help businesses tailor their marketing strategies and target specific customer segments effectively.\n",
    "    \n",
    "    2 Unsupervised learning techniques can be utilized to build recommendation systems. These systems analyze user behavior and preferences to suggest relevant products, movies, music, or articles to users."
   ]
  },
  {
   "cell_type": "code",
   "execution_count": null,
   "id": "112036c2-9d8b-4c7d-889e-8f005728d90f",
   "metadata": {},
   "outputs": [],
   "source": []
  },
  {
   "cell_type": "code",
   "execution_count": null,
   "id": "003a9ea5-fa05-430c-ab3e-6d6928bc7f2c",
   "metadata": {},
   "outputs": [],
   "source": []
  },
  {
   "cell_type": "markdown",
   "id": "b5956768-75c1-4566-b1a8-95b1ff4b9384",
   "metadata": {},
   "source": [
    "Q4- What is the differences between AI, ML, DL, and DS?\n",
    "\n",
    "Answer--> The terms AI (Artificial Intelligence), ML (Machine Learning), DL (Deep Learning), and DS (Data Science) are related but have distinct meanings. Here's a breakdown of the differences between these terms:\n",
    "\n",
    "1. Artificial Intelligence (AI):\n",
    "Artificial Intelligence refers to the development of computer systems that can perform tasks that typically require human intelligence. \n",
    "\n",
    "2. Machine Learning (ML):\n",
    "Machine Learning is a subset of AI that focuses on developing algorithms and models that allow computers to learn from data and make predictions or decisions without explicit programming.\n",
    "\n",
    "3. Deep Learning:\n",
    "Deep Learning is a subfield of machine learning that utilizes artificial neural networks with multiple layers (deep architectures) to extract and learn hierarchical representations of data. Deep learning models are designed to automatically learn intricate patterns and features from large amounts of data, enabling them to solve complex tasks.\n",
    "\n",
    "4. Data Science (DS):\n",
    "DS is an interdisciplinary field that combines various techniques, tools, and methodologies to extract insights and knowledge from data. It encompasses a wide range of activities such as data collection, cleaning, exploration, visualization, statistical analysis, and machine learning modeling. DS involves using a combination of programming skills, statistical knowledge, and domain expertise to understand and interpret data."
   ]
  },
  {
   "cell_type": "code",
   "execution_count": null,
   "id": "96166fbb-6df2-4537-a599-27afb253c62d",
   "metadata": {},
   "outputs": [],
   "source": []
  },
  {
   "cell_type": "code",
   "execution_count": null,
   "id": "3468b48d-1990-4fa0-875a-a63ad1a0ca31",
   "metadata": {},
   "outputs": [],
   "source": []
  },
  {
   "cell_type": "markdown",
   "id": "16e0f889-ff81-45ec-ba3e-fec99cb1fdd5",
   "metadata": {},
   "source": [
    "Q5- What are the main differences between supervised learning, unsupervised learning, and semi-supervised learning?\n",
    "\n",
    "Answer--> The main differences between supervised learning, unsupervised learning, and semi-supervised learning lie in the nature of the data and the learning process. Here's an overview of these three types of learning:\n",
    "\n",
    "Key characteristics of supervised learning:\n",
    "\n",
    "    1 Requires labeled data.\n",
    "    2 Aims to learn the relationship between input features and output labels.\n",
    "     Examples: Classification (predicting discrete labels) and regression (predicting continuous values).\n",
    "    \n",
    "Key characteristics of unsupervised learning:\n",
    "\n",
    "    1 Works with unlabeled data.\n",
    "    2 Focuses on finding hidden patterns or structures in the data.\n",
    "    Examples: Clustering (grouping similar data points), dimensionality reduction (reducing the number of input features), and anomaly detection (identifying unusual data instances).\n",
    "    \n",
    "Key characteristics of semi-supervised learning:\n",
    "\n",
    "    1 Utilizes a mix of labeled and unlabeled data.\n",
    "    2 Combines the benefits of supervised and unsupervised learning.\n",
    "    3 Can be useful when labeled data is scarce or expensive to obtain."
   ]
  },
  {
   "cell_type": "code",
   "execution_count": null,
   "id": "33c8ad42-7012-4748-851a-ae32c7d0d459",
   "metadata": {},
   "outputs": [],
   "source": []
  },
  {
   "cell_type": "code",
   "execution_count": null,
   "id": "09fbcd10-caed-47ff-bd50-5911ef34865a",
   "metadata": {},
   "outputs": [],
   "source": []
  },
  {
   "cell_type": "markdown",
   "id": "0cdab9df-c595-4fb9-826e-cb4387825bcc",
   "metadata": {},
   "source": [
    "Q6- What is train, test and validation split? Explain the importance of each term.\n",
    "\n",
    "Answer--> Here's an explanation of each term:\n",
    "\n",
    "1 Training Set:\n",
    "\n",
    "The training set is a portion of the available data that is used to train or teach the model. It contains input features (data) and corresponding output labels or is unlabeled . During training, the model learns from the patterns and relationships in the training data to make predictions or classifications. \n",
    "\n",
    "2 Test Set:\n",
    "\n",
    "The test set is a separate portion of the data that is used to evaluate the final performance of the trained model. It is used to assess how well the model generalizes to unseen data. The test set is kept completely separate from the training process and is only used at the very end.\n",
    "\n",
    "3 Validation set:\n",
    "\n",
    "The validation set helps in fine-tuning the model and selecting the best configuration by assessing its performance on unseen data. It aids in preventing overfitting and choosing the optimal hyperparameters."
   ]
  },
  {
   "cell_type": "code",
   "execution_count": null,
   "id": "1b5c9b41-7f89-4d04-a321-e7e1a520e1e7",
   "metadata": {},
   "outputs": [],
   "source": []
  },
  {
   "cell_type": "code",
   "execution_count": null,
   "id": "fb80c6c8-46a9-4418-951c-24114ff1e5a1",
   "metadata": {},
   "outputs": [],
   "source": []
  },
  {
   "cell_type": "markdown",
   "id": "3a50ed88-9ac8-4e34-af32-63a44555b53a",
   "metadata": {},
   "source": [
    "Q7- How can Unsupervised learning be used in anomaly detection?\n",
    "\n",
    "Answer--> Unsupervised learning can be used in anomaly detection by allowing algorithms to learn the normal patterns and structures present in the data without relying on labeled anomalies. By identifying instances that deviate significantly from the learned normal representations or have low probability/distance from the majority of the data, unsupervised learning algorithms can detect anomalies. Unsupervised learning techniques such as clustering, density estimation, and dimensionality reduction are commonly employed in anomaly detection tasks."
   ]
  },
  {
   "cell_type": "code",
   "execution_count": null,
   "id": "74271ef7-bc4f-4c4c-80e7-63c710fb38fe",
   "metadata": {},
   "outputs": [],
   "source": []
  },
  {
   "cell_type": "code",
   "execution_count": null,
   "id": "00f354b1-46d4-4400-af2a-dafad34cbcb6",
   "metadata": {},
   "outputs": [],
   "source": []
  },
  {
   "cell_type": "markdown",
   "id": "58d565e6-5263-49b8-83bf-d16539a2113c",
   "metadata": {},
   "source": [
    "Q8- List down some commonly used supervised and unsupervised learning algorithms \n",
    "\n",
    "Answer--> Here are some commonly used supervised and unsupervised learning algorithms:\n",
    "\n",
    "Supervised Learning Algorithms:\n",
    "1. Linear Regression\n",
    "2. Logistic Regression\n",
    "3. Decision Trees\n",
    "4. Random Forests\n",
    "5. Support Vector Machines (SVM)\n",
    "6. Naive Bayes\n",
    "7. k-Nearest Neighbors (k-NN)\n",
    "8. Gradient Boosting methods (e.g., XGBoost, LightGBM)\n",
    "9. Neural Networks (including deep learning architectures)\n",
    "\n",
    "Unsupervised Learning Algorithms:\n",
    "1. K-means Clustering\n",
    "2. Hierarchical Clustering\n",
    "3. DBSCAN (Density-Based Spatial Clustering of Applications with Noise)\n",
    "4. Gaussian Mixture Models (GMM)\n",
    "5. Principal Component Analysis (PCA)\n",
    "6. t-Distributed Stochastic Neighbor Embedding (t-SNE)\n",
    "7. Autoencoders\n",
    "8. Isolation Forest\n",
    "9. One-Class SVM\n",
    "10. Local Outlier Factor (LOF)\n"
   ]
  },
  {
   "cell_type": "code",
   "execution_count": null,
   "id": "ec28ee7a-12b5-4bbe-a49a-43c77e367ae9",
   "metadata": {},
   "outputs": [],
   "source": []
  }
 ],
 "metadata": {
  "kernelspec": {
   "display_name": "Python 3 (ipykernel)",
   "language": "python",
   "name": "python3"
  },
  "language_info": {
   "codemirror_mode": {
    "name": "ipython",
    "version": 3
   },
   "file_extension": ".py",
   "mimetype": "text/x-python",
   "name": "python",
   "nbconvert_exporter": "python",
   "pygments_lexer": "ipython3",
   "version": "3.10.8"
  }
 },
 "nbformat": 4,
 "nbformat_minor": 5
}
